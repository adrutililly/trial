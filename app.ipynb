{
 "cells": [
  {
   "cell_type": "code",
   "execution_count": 8,
   "metadata": {},
   "outputs": [],
   "source": [
    "from models import llm \n",
    "from langchain_core.prompts import PromptTemplate\n",
    "from langchain_core.prompts import ChatPromptTemplate\n",
    "from langchain_core.output_parsers import StrOutputParser\n",
    "from prompts import * \n",
    "from schemas import * \n",
    "from typing_extensions import TypedDict, Any, Annotated\n",
    "import operator \n",
    "from langgraph.types import  Send \n",
    "from langgraph.graph import START, END, StateGraph\n",
    "import pandas as pd\n",
    "\n",
    "\n",
    "class State(TypedDict):\n",
    "    text: str\n",
    "    segments: Any\n",
    "    flag: bool \n",
    "    error: str \n",
    "    segment: str\n",
    "    tables : Annotated[List, operator.add]\n",
    "    headers: Annotated[List, operator.add]\n",
    "    rows: List \n",
    "    columns: List \n",
    "\n",
    "\n",
    "  \n",
    "    \n",
    "   \n"
   ]
  },
  {
   "cell_type": "code",
   "execution_count": 9,
   "metadata": {},
   "outputs": [],
   "source": [
    "sample_text = \"\"\"Here's sample medical-related text about a hypothetical drug you can use to test your table generation:\n",
    "\n",
    "---\n",
    "\n",
    "**Drug Name:** Medorin  \n",
    "**Generic Name:** Metralex Sodium  \n",
    "**Drug Class:** Nonsteroidal Anti-inflammatory Drug (NSAID)  \n",
    "\n",
    "**Description:**  \n",
    "Medorin (Metralex Sodium) is a nonsteroidal anti-inflammatory medication commonly prescribed to relieve pain, swelling, and inflammation associated with conditions such as rheumatoid arthritis, osteoarthritis, and acute musculoskeletal injuries. It acts by inhibiting the cyclooxygenase (COX) enzyme, thereby decreasing prostaglandin synthesis.\n",
    "\n",
    "**Dosage Forms:**  \n",
    "- Tablets: 100 mg, 200 mg, 400 mg  \n",
    "- Oral Suspension: 50 mg/5 ml  \n",
    "\n",
    "**Recommended Dosage:**  \n",
    "- Adults: Typically 200–400 mg orally every 6 to 8 hours, not exceeding 1200 mg/day.  \n",
    "- Pediatrics (age 6–12): 100 mg orally every 8 hours, maximum 300 mg/day.\n",
    "\n",
    "**Contraindications:**  \n",
    "- Known hypersensitivity to NSAIDs  \n",
    "- Active gastrointestinal bleeding or ulcers  \n",
    "- Severe hepatic impairment  \n",
    "- Severe renal impairment  \n",
    "- Pregnancy (third trimester)\n",
    "\n",
    "**Common Side Effects:**  \n",
    "- Nausea  \n",
    "- Vomiting  \n",
    "- Dyspepsia  \n",
    "- Dizziness  \n",
    "- Headache  \n",
    "\n",
    "**Serious Adverse Effects:**  \n",
    "- Gastrointestinal bleeding  \n",
    "- Cardiovascular thrombotic events (e.g., stroke, myocardial infarction)  \n",
    "- Renal impairment  \n",
    "- Severe allergic reactions (anaphylaxis)\n",
    "\n",
    "**Drug Interactions:**  \n",
    "- Anticoagulants (increased bleeding risk)  \n",
    "- Diuretics (reduced effectiveness of diuretics)  \n",
    "- ACE inhibitors (reduced antihypertensive effect)  \n",
    "\n",
    "**Storage Conditions:**  \n",
    "Store tablets at room temperature (20–25°C / 68–77°F) away from moisture and direct sunlight.\n",
    "\n",
    "**Manufacturer:** HealthGen Pharmaceuticals Ltd.\"\"\""
   ]
  },
  {
   "cell_type": "code",
   "execution_count": 10,
   "metadata": {},
   "outputs": [
    {
     "data": {
      "text/plain": [
       "'Please analyze the passage below to extract potential row and column headers. Use the following guidelines:\\n\\n- **Column Headers:**  \\n  - Identify time periods (e.g., \"01\", \"Jan\", \"2023\") as column headers.\\n  - Identify groups or cohorts (e.g., \"Group A\", \"Control\", \"Male/Female\") as column headers.\\n\\n- **Row Headers:**  \\n  - Identify metric names (e.g., \"Blood Pressure\", \"Revenue\", \"Satisfaction Score\") as row headers.\\n\\n- **General Instructions:**  \\n  - If the layout is unclear, follow typical report structures and avoid making guesses.\\n\\nReturn your output in JSON format as follows:\\n{{\\n  \"row_headers\": [List of strings],\\n  \"column_headers\": [List of strings]\\n}}\\n\\nPassage:\\n{segment}\\n'"
      ]
     },
     "execution_count": 10,
     "metadata": {},
     "output_type": "execute_result"
    }
   ],
   "source": [
    "header_extraction"
   ]
  },
  {
   "cell_type": "code",
   "execution_count": 67,
   "metadata": {},
   "outputs": [],
   "source": [
    "def table_decision_node(state:State):\n",
    "    text = state['text']\n",
    "    prompt = PromptTemplate(template=table_decision)\n",
    "    flag = (prompt | llm.with_structured_output(TableDecision)).invoke({\"input_text\": text}).needs_table \n",
    "    return {\"flag\": flag }\n",
    "\n",
    "\n",
    "\n",
    "def break_segments(state:State):\n",
    "    text = state['text']\n",
    "    prompt = PromptTemplate(template=segment_passages)\n",
    "    segments =  (prompt | llm.with_structured_output(PassageSegments)).invoke({\"input_text\": text}).passages\n",
    "    return {\"segments\": segments} \n",
    "\n",
    "\n",
    "def continue_to_segments(state: State):\n",
    "    return [Send(\"generate_header_node\", {\"segment\": x}) for x in state[\"segments\"]]\n",
    "\n",
    "def generate_header_node(state:State):\n",
    "    text = state['segment']\n",
    "    prompt = PromptTemplate(template=header_extraction)\n",
    "    out =  (prompt | llm.with_structured_output(HeaderExtractionOutput)).invoke({\"segment\": text})\n",
    "    return {\"headers\": [(text, out.row_headers, out.column_headers)]} \n",
    "\n",
    "\n",
    "def continue_to_tables(state:State):\n",
    "    return [Send(\"generate_table_node\", {\"segment\": segment, \"rows\": rows, \"columns\": columns}) for segment, rows, columns in state[\"headers\"]]\n",
    "\n",
    "\n",
    "def generate_table_node(state: State):\n",
    "    rows = state['rows']\n",
    "    columns = state['columns']\n",
    "    text = state['segment']\n",
    "\n",
    "    # Check if we have a simple table vs. a key-value table\n",
    "    if not rows or not columns:\n",
    "        print('------------------------')\n",
    "        print(\"Using simple table extraction\")\n",
    "        print(f\"Rows: {rows}\")\n",
    "        print(f\"Columns: {columns}\")\n",
    "        print(f\"text: {text}\")\n",
    "        print('------------------------')\n",
    "        \n",
    "        # Determine table type:\n",
    "        # If we only have rows, consider this a simple table (type 0)\n",
    "        # If there is any other condition, you can decide on another type.\n",
    "        if rows:\n",
    "            headers = rows\n",
    "            table_type = 0\n",
    "        elif columns:\n",
    "            headers = columns\n",
    "            table_type = 1\n",
    "        else:\n",
    "            return {\"tables\": [(-1, text, \"No table found\", rows, columns)]}\n",
    "\n",
    "        prompt = PromptTemplate(template=simple_table)\n",
    "        out = (prompt | llm.with_structured_output(ExtractionResultSimple)).invoke({\"passage\": text, \"headers\": headers})\n",
    "        return {\"tables\": [(table_type, text, out, rows, columns)]}\n",
    "    else:\n",
    "        # For a table with both rows and columns, we might decide it's type 1.\n",
    "        table_type = 1\n",
    "        prompt = PromptTemplate(template=extracted_table)\n",
    "        out = (prompt | llm.with_structured_output(ExtractionResult)).invoke({\"passage\": text, \"rows\": rows, \"columns\": columns})\n",
    "        return {\"tables\": [(table_type, text, out, rows, columns)]}\n",
    "\n",
    "\n",
    "\n",
    "# def header_extraction_node(state:State):\n",
    "#     text = state['text']\n",
    "#     prompt = PromptTemplate(template=header_extraction)\n",
    "#     out =  (prompt | llm.with_structured_output(HeaderExtractionOutput)).invoke({\"segment\": text})\n",
    "#     return dict(rows=out.row_headers, columns=out.column_headers)\n",
    "\n",
    "\n",
    "# def extracted_table_node(state:State):\n",
    "#     rows = state['rows']\n",
    "#     columns = state['columns']\n",
    "#     text = state['text']\n",
    "#     prompt = PromptTemplate(template=extracted_table)\n",
    "#     out = (prompt | llm.with_structured_output(ExtractionResult)).invoke({\"passage\": text, \"rows\": rows, \"columns\": columns})\n",
    "#     return dict(tables=out)  \n",
    "\n"
   ]
  },
  {
   "cell_type": "code",
   "execution_count": null,
   "metadata": {},
   "outputs": [
    {
     "data": {
      "image/png": "[encoded data removed]",
      "text/plain": [
       "<IPython.core.display.Image object>"
      ]
     },
     "metadata": {},
     "output_type": "display_data"
    }
   ],
   "source": [
    "graph_builder = StateGraph(State)\n",
    "graph_builder.add_node(\"table_decision_node\", table_decision_node) \n",
    "graph_builder.add_node(\"break_segments\", break_segments)\n",
    "graph_builder.add_node(\"generate_header_node\", generate_header_node)\n",
    "graph_builder.add_node(\"generate_table_node\", generate_table_node)\n",
    "\n",
    "\n",
    "graph_builder.add_edge(START, \"table_decision_node\")\n",
    "graph_builder.add_edge(\"table_decision_node\", \"break_segments\") \n",
    "graph_builder.add_conditional_edges(\"break_segments\", continue_to_segments, ['generate_header_node'] )\n",
    "graph_builder.add_conditional_edges(\"generate_header_node\", continue_to_tables, ['generate_table_node'] )\n",
    "graph_builder.add_edge(\"generate_table_node\", END)\n",
    "\n",
    "graph = graph_builder.compile()\n",
    "\n",
    "\n",
    "from IPython.display import display, Image\n",
    "\n",
    "display(Image(graph.get_graph().draw_mermaid_png()))\n"
   ]
  },
  {
   "cell_type": "code",
   "execution_count": 68,
   "metadata": {},
   "outputs": [
    {
     "name": "stdout",
     "output_type": "stream",
     "text": [
      "------------------------------------------------\n",
      "Using simple table extraction\n",
      "Rows: ['Pain Relief', 'Swelling Reduction', 'Inflammation Reduction', 'Rheumatoid Arthritis', 'Osteoarthritis', 'Acute Musculoskeletal Injuries', 'Cyclooxygenase (COX) Inhibition', 'Prostaglandin Synthesis Decrease']\n",
      "Columns: []\n",
      "text: **Description:**\\nMedorin (Metralex Sodium) is a nonsteroidal anti-inflammatory medication commonly prescribed to relieve pain, swelling, and inflammation associated with conditions such as rheumatoid arthritis, osteoarthritis, and acute musculoskeletal injuries. It acts by inhibiting the cyclooxygenase (COX) enzyme, thereby decreasing prostaglandin synthesis.\n",
      "------------------------\n",
      "\n",
      "Using simple table extraction\n",
      "Rows: ['Drug Name', 'Generic Name', 'Drug Class']\n",
      "Columns: []\n",
      "text: **Drug Information:**\\n- **Drug Name:** Medorin\\n- **Generic Name:** Metralex Sodium\\n- **Drug Class:** Nonsteroidal Anti-inflammatory Drug (NSAID)\n",
      "------------------------\n",
      "------------------------\n",
      "Using simple table extraction\n",
      "Rows: ['Contraindications', 'Known hypersensitivity to NSAIDs', 'Active gastrointestinal bleeding or ulcers', 'Severe hepatic impairment', 'Severe renal impairment', 'Pregnancy (third trimester)']\n",
      "Columns: []\n",
      "text: **Contraindications:**\\n- Known hypersensitivity to NSAIDs\\n- Active gastrointestinal bleeding or ulcers\\n- Severe hepatic impairment\\n- Severe renal impairment\\n- Pregnancy (third trimester)\n",
      "------------------------\n",
      "------------------------\n",
      "Using simple table extraction\n",
      "Rows: ['Gastrointestinal bleeding', 'Cardiovascular thrombotic events', 'Renal impairment', 'Severe allergic reactions']\n",
      "Columns: []\n",
      "text: **Serious Adverse Effects:**\\n- Gastrointestinal bleeding\\n- Cardiovascular thrombotic events (e.g., stroke, myocardial infarction)\\n- Renal impairment\\n- Severe allergic reactions (anaphylaxis)\n",
      "------------------------\n",
      "------------------------\n",
      "Using simple table extraction\n",
      "Rows: ['Nausea', 'Vomiting', 'Dyspepsia', 'Dizziness', 'Headache']\n",
      "Columns: []\n",
      "text: **Common Side Effects:**\\n- Nausea\\n- Vomiting\\n- Dyspepsia\\n- Dizziness\\n- Headache\n",
      "------------------------\n",
      "------------------------\n",
      "Using simple table extraction\n",
      "Rows: ['Anticoagulants', 'Diuretics', 'ACE inhibitors']\n",
      "Columns: []\n",
      "text: **Drug Interactions:**\\n- Anticoagulants (increased bleeding risk)\\n- Diuretics (reduced effectiveness of diuretics)\\n- ACE inhibitors (reduced antihypertensive effect)\n",
      "------------------------\n",
      "------------------------\n",
      "Using simple table extraction\n",
      "Rows: ['Storage Conditions']\n",
      "Columns: []\n",
      "text: **Storage Conditions:**\\nStore tablets at room temperature (20–25°C / 68–77°F) away from moisture and direct sunlight.\n",
      "------------------------\n",
      "------------------------\n",
      "Using simple table extraction\n",
      "Rows: []\n",
      "Columns: []\n",
      "text: **Manufacturer:**\\nHealthGen Pharmaceuticals Ltd.\n",
      "------------------------\n"
     ]
    }
   ],
   "source": [
    "out = graph.invoke({'text':sample_text})"
   ]
  },
  {
   "cell_type": "markdown",
   "metadata": {},
   "source": []
  },
  {
   "cell_type": "code",
   "execution_count": 71,
   "metadata": {},
   "outputs": [
    {
     "name": "stdout",
     "output_type": "stream",
     "text": [
      "Table 1 - Table Type: 0\n",
      "{'data': [{'row_data': {'Drug Name': ['Medorin'], 'Generic Name': ['Metralex Sodium'], 'Drug Class': ['Nonsteroidal Anti-inflammatory Drug (NSAID)']}}]}\n",
      "------------------------\n",
      "\n",
      "Table 2 - Table Type: 0\n",
      "{'data': [{'row_data': {'Pain Relief': ['Medorin (Metralex Sodium)'], 'Swelling Reduction': ['Medorin (Metralex Sodium)'], 'Inflammation Reduction': ['Medorin (Metralex Sodium)'], 'Rheumatoid Arthritis': ['Medorin (Metralex Sodium)'], 'Osteoarthritis': ['Medorin (Metralex Sodium)'], 'Acute Musculoskeletal Injuries': ['Medorin (Metralex Sodium)'], 'Cyclooxygenase (COX) Inhibition': ['Medorin (Metralex Sodium)'], 'Prostaglandin Synthesis Decrease': ['Medorin (Metralex Sodium)']}}]}\n",
      "------------------------\n",
      "\n",
      "Table 3 - Table Type: 0\n",
      "{'data': [{'row': 'Tablets', 'columns': {'100 mg': '100 mg', '200 mg': '200 mg', '400 mg': '400 mg', '50 mg/5 ml': 'NA'}}, {'row': 'Oral Suspension', 'columns': {'100 mg': 'NA', '200 mg': 'NA', '400 mg': 'NA', '50 mg/5 ml': '50 mg/5 ml'}}]}\n",
      "------------------------\n",
      "\n",
      "Table 4 - Table Type: 0\n",
      "{'data': [{'row': 'Recommended Dosage', 'columns': {'Adults': 'Typically 200–400 mg orally every 6 to 8 hours, not exceeding 1200 mg/day.', 'Pediatrics (age 6–12)': '100 mg orally every 8 hours, maximum 300 mg/day.'}}]}\n",
      "------------------------\n",
      "\n",
      "Table 5 - Table Type: 0\n",
      "{'data': [{'row_data': {'Contraindications': ['Known hypersensitivity to NSAIDs', 'Active gastrointestinal bleeding or ulcers', 'Severe hepatic impairment', 'Severe renal impairment', 'Pregnancy (third trimester)'], 'Known hypersensitivity to NSAIDs': ['Known hypersensitivity to NSAIDs'], 'Active gastrointestinal bleeding or ulcers': ['Active gastrointestinal bleeding or ulcers'], 'Severe hepatic impairment': ['Severe hepatic impairment'], 'Severe renal impairment': ['Severe renal impairment'], 'Pregnancy (third trimester)': ['Pregnancy (third trimester)']}}]}\n",
      "------------------------\n",
      "\n",
      "Table 6 - Table Type: 0\n",
      "{'data': [{'row_data': {'Nausea': ['Nausea'], 'Vomiting': ['Vomiting'], 'Dyspepsia': ['Dyspepsia'], 'Dizziness': ['Dizziness'], 'Headache': ['Headache']}}]}\n",
      "------------------------\n",
      "\n",
      "Table 7 - Table Type: 0\n",
      "{'data': [{'row_data': {'Gastrointestinal bleeding': ['Gastrointestinal bleeding'], 'Cardiovascular thrombotic events': ['Cardiovascular thrombotic events (e.g., stroke, myocardial infarction)'], 'Renal impairment': ['Renal impairment'], 'Severe allergic reactions': ['Severe allergic reactions (anaphylaxis)']}}]}\n",
      "------------------------\n",
      "\n",
      "Table 8 - Table Type: 0\n",
      "{'data': [{'row_data': {'Anticoagulants': ['increased bleeding risk'], 'Diuretics': ['reduced effectiveness of diuretics'], 'ACE inhibitors': ['reduced antihypertensive effect']}}]}\n",
      "------------------------\n",
      "\n",
      "Table 9 - Table Type: 0\n",
      "{'data': [{'row_data': {'Storage Conditions': ['Store tablets at room temperature (20–25°C / 68–77°F) away from moisture and direct sunlight.']}}]}\n",
      "------------------------\n",
      "\n"
     ]
    },
    {
     "ename": "TypeError",
     "evalue": "'int' object is not subscriptable",
     "output_type": "error",
     "traceback": [
      "\u001b[0;31m---------------------------------------------------------------------------\u001b[0m",
      "\u001b[0;31mTypeError\u001b[0m                                 Traceback (most recent call last)",
      "Cell \u001b[0;32mIn[71], line 4\u001b[0m\n\u001b[1;32m      1\u001b[0m tables \u001b[38;5;241m=\u001b[39m out[\u001b[38;5;124m'\u001b[39m\u001b[38;5;124mtables\u001b[39m\u001b[38;5;124m'\u001b[39m]\n\u001b[1;32m      3\u001b[0m \u001b[38;5;28;01mfor\u001b[39;00m i, table_entry \u001b[38;5;129;01min\u001b[39;00m \u001b[38;5;28menumerate\u001b[39m(tables):\n\u001b[0;32m----> 4\u001b[0m     table_type \u001b[38;5;241m=\u001b[39m \u001b[43mtable_entry\u001b[49m\u001b[43m[\u001b[49m\u001b[38;5;241;43m0\u001b[39;49m\u001b[43m]\u001b[49m\n\u001b[1;32m      5\u001b[0m     extraction_result \u001b[38;5;241m=\u001b[39m table_entry[\u001b[38;5;241m2\u001b[39m]\n\u001b[1;32m      6\u001b[0m     table_data \u001b[38;5;241m=\u001b[39m extraction_result\u001b[38;5;241m.\u001b[39mmodel_dump()\n",
      "\u001b[0;31mTypeError\u001b[0m: 'int' object is not subscriptable"
     ]
    }
   ],
   "source": [
    "tables = out['tables']\n",
    "\n",
    "for i, table_entry in enumerate(tables):\n",
    "    table_type = table_entry[0]\n",
    "    extraction_result = table_entry[2]\n",
    "    table_data = extraction_result.model_dump()\n",
    "    \n",
    "    print(f\"Table {i+1} - Table Type: {table_type}\")\n",
    "    print(table_data)\n",
    "    print(\"------------------------\\n\")\n"
   ]
  },
  {
   "cell_type": "code",
   "execution_count": 23,
   "metadata": {},
   "outputs": [
    {
     "data": {
      "text/plain": [
       "[{'row_data': {'Drug Name': ['Medorin'],\n",
       "   'Generic Name': ['Metralex Sodium'],\n",
       "   'Drug Class': ['Nonsteroidal Anti-inflammatory Drug (NSAID)']}}]"
      ]
     },
     "execution_count": 23,
     "metadata": {},
     "output_type": "execute_result"
    }
   ],
   "source": [
    "table['data']"
   ]
  },
  {
   "cell_type": "code",
   "execution_count": null,
   "metadata": {},
   "outputs": [],
   "source": []
  }
 ],
 "metadata": {
  "kernelspec": {
   "display_name": "Python 3",
   "language": "python",
   "name": "python3"
  },
  "language_info": {
   "codemirror_mode": {
    "name": "ipython",
    "version": 3
   },
   "file_extension": ".py",
   "mimetype": "text/x-python",
   "name": "python",
   "nbconvert_exporter": "python",
   "pygments_lexer": "ipython3",
   "version": "3.9.6"
  }
 },
 "nbformat": 4,
 "nbformat_minor": 2
}
